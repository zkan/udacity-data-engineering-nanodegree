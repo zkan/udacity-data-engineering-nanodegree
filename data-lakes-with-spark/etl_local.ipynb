{
 "cells": [
  {
   "cell_type": "markdown",
   "id": "3c527691",
   "metadata": {},
   "source": [
    "# ETL with Spark SQL (Local)"
   ]
  },
  {
   "cell_type": "code",
   "execution_count": 29,
   "id": "2d861fe9",
   "metadata": {},
   "outputs": [],
   "source": [
    "from pyspark.sql import SparkSession\n",
    "from pyspark.sql.types import StructType, StructField, DoubleType, StringType, IntegerType, DateType, TimestampType\n",
    "\n",
    "import pyspark.sql.functions as F"
   ]
  },
  {
   "cell_type": "code",
   "execution_count": 30,
   "id": "ac5cf497",
   "metadata": {},
   "outputs": [],
   "source": [
    "input_data = \"./data\"\n",
    "output_data = \"./output\""
   ]
  },
  {
   "cell_type": "code",
   "execution_count": 31,
   "id": "2788e6ba",
   "metadata": {},
   "outputs": [],
   "source": [
    "song_data = f\"{input_data}/song_data/*/*/*/\"\n",
    "log_data = f\"{input_data}/log_data/\""
   ]
  },
  {
   "cell_type": "code",
   "execution_count": 32,
   "id": "dc7cd58f",
   "metadata": {},
   "outputs": [],
   "source": [
    "spark = SparkSession.builder \\\n",
    "    .appName(\"ETL\") \\\n",
    "    .getOrCreate()"
   ]
  },
  {
   "cell_type": "code",
   "execution_count": 33,
   "id": "d0ae0181",
   "metadata": {},
   "outputs": [
    {
     "name": "stdout",
     "output_type": "stream",
     "text": [
      "root\n",
      " |-- artist_id: string (nullable = true)\n",
      " |-- artist_latitude: double (nullable = true)\n",
      " |-- artist_location: string (nullable = true)\n",
      " |-- artist_longitude: double (nullable = true)\n",
      " |-- artist_name: string (nullable = true)\n",
      " |-- duration: double (nullable = true)\n",
      " |-- num_songs: integer (nullable = true)\n",
      " |-- song_id: string (nullable = true)\n",
      " |-- title: string (nullable = true)\n",
      " |-- year: integer (nullable = true)\n",
      "\n"
     ]
    }
   ],
   "source": [
    "song_schema = StructType([\n",
    "    StructField(\"artist_id\", StringType()),\n",
    "    StructField(\"artist_latitude\", DoubleType()),\n",
    "    StructField(\"artist_location\", StringType()),\n",
    "    StructField(\"artist_longitude\", DoubleType()),\n",
    "    StructField(\"artist_name\", StringType()),\n",
    "    StructField(\"duration\", DoubleType()),\n",
    "    StructField(\"num_songs\", IntegerType()),\n",
    "    StructField(\"song_id\", StringType()),\n",
    "    StructField(\"title\", StringType()),\n",
    "    StructField(\"year\", IntegerType()),\n",
    "])\n",
    "songs = spark.read.json(song_data, schema=song_schema)\n",
    "songs.printSchema()"
   ]
  },
  {
   "cell_type": "code",
   "execution_count": 34,
   "id": "7806ccd9",
   "metadata": {},
   "outputs": [
    {
     "data": {
      "text/html": [
       "<div>\n",
       "<style scoped>\n",
       "    .dataframe tbody tr th:only-of-type {\n",
       "        vertical-align: middle;\n",
       "    }\n",
       "\n",
       "    .dataframe tbody tr th {\n",
       "        vertical-align: top;\n",
       "    }\n",
       "\n",
       "    .dataframe thead th {\n",
       "        text-align: right;\n",
       "    }\n",
       "</style>\n",
       "<table border=\"1\" class=\"dataframe\">\n",
       "  <thead>\n",
       "    <tr style=\"text-align: right;\">\n",
       "      <th></th>\n",
       "      <th>artist_id</th>\n",
       "      <th>artist_latitude</th>\n",
       "      <th>artist_location</th>\n",
       "      <th>artist_longitude</th>\n",
       "      <th>artist_name</th>\n",
       "      <th>duration</th>\n",
       "      <th>num_songs</th>\n",
       "      <th>song_id</th>\n",
       "      <th>title</th>\n",
       "      <th>year</th>\n",
       "    </tr>\n",
       "  </thead>\n",
       "  <tbody>\n",
       "    <tr>\n",
       "      <th>0</th>\n",
       "      <td>ARDR4AC1187FB371A1</td>\n",
       "      <td>NaN</td>\n",
       "      <td></td>\n",
       "      <td>NaN</td>\n",
       "      <td>Montserrat Caballé;Placido Domingo;Vicente Sar...</td>\n",
       "      <td>511.16363</td>\n",
       "      <td>1</td>\n",
       "      <td>SOBAYLL12A8C138AF9</td>\n",
       "      <td>Sono andati? Fingevo di dormire</td>\n",
       "      <td>0</td>\n",
       "    </tr>\n",
       "    <tr>\n",
       "      <th>1</th>\n",
       "      <td>AREBBGV1187FB523D2</td>\n",
       "      <td>NaN</td>\n",
       "      <td>Houston, TX</td>\n",
       "      <td>NaN</td>\n",
       "      <td>Mike Jones (Featuring CJ_ Mello &amp; Lil' Bran)</td>\n",
       "      <td>173.66159</td>\n",
       "      <td>1</td>\n",
       "      <td>SOOLYAZ12A6701F4A6</td>\n",
       "      <td>Laws Patrolling (Album Version)</td>\n",
       "      <td>0</td>\n",
       "    </tr>\n",
       "    <tr>\n",
       "      <th>2</th>\n",
       "      <td>ARMAC4T1187FB3FA4C</td>\n",
       "      <td>40.82624</td>\n",
       "      <td>Morris Plains, NJ</td>\n",
       "      <td>-74.47995</td>\n",
       "      <td>The Dillinger Escape Plan</td>\n",
       "      <td>207.77751</td>\n",
       "      <td>1</td>\n",
       "      <td>SOBBUGU12A8C13E95D</td>\n",
       "      <td>Setting Fire to Sleeping Giants</td>\n",
       "      <td>2004</td>\n",
       "    </tr>\n",
       "  </tbody>\n",
       "</table>\n",
       "</div>"
      ],
      "text/plain": [
       "            artist_id  artist_latitude    artist_location  artist_longitude  \\\n",
       "0  ARDR4AC1187FB371A1              NaN                                  NaN   \n",
       "1  AREBBGV1187FB523D2              NaN        Houston, TX               NaN   \n",
       "2  ARMAC4T1187FB3FA4C         40.82624  Morris Plains, NJ         -74.47995   \n",
       "\n",
       "                                         artist_name   duration  num_songs  \\\n",
       "0  Montserrat Caballé;Placido Domingo;Vicente Sar...  511.16363          1   \n",
       "1       Mike Jones (Featuring CJ_ Mello & Lil' Bran)  173.66159          1   \n",
       "2                          The Dillinger Escape Plan  207.77751          1   \n",
       "\n",
       "              song_id                            title  year  \n",
       "0  SOBAYLL12A8C138AF9  Sono andati? Fingevo di dormire     0  \n",
       "1  SOOLYAZ12A6701F4A6  Laws Patrolling (Album Version)     0  \n",
       "2  SOBBUGU12A8C13E95D  Setting Fire to Sleeping Giants  2004  "
      ]
     },
     "execution_count": 34,
     "metadata": {},
     "output_type": "execute_result"
    }
   ],
   "source": [
    "songs.limit(3).toPandas()"
   ]
  },
  {
   "cell_type": "code",
   "execution_count": 35,
   "id": "e5dee2d7",
   "metadata": {},
   "outputs": [],
   "source": [
    "songs.createOrReplaceTempView(\"staging_songs\")"
   ]
  },
  {
   "cell_type": "code",
   "execution_count": 36,
   "id": "0313f536",
   "metadata": {},
   "outputs": [
    {
     "name": "stdout",
     "output_type": "stream",
     "text": [
      "root\n",
      " |-- artist: string (nullable = true)\n",
      " |-- auth: string (nullable = true)\n",
      " |-- firstName: string (nullable = true)\n",
      " |-- gender: string (nullable = true)\n",
      " |-- itemInSession: integer (nullable = true)\n",
      " |-- lastName: string (nullable = true)\n",
      " |-- length: double (nullable = true)\n",
      " |-- level: string (nullable = true)\n",
      " |-- location: string (nullable = true)\n",
      " |-- method: string (nullable = true)\n",
      " |-- page: string (nullable = true)\n",
      " |-- registration: double (nullable = true)\n",
      " |-- sessionId: integer (nullable = true)\n",
      " |-- song: string (nullable = true)\n",
      " |-- status: integer (nullable = true)\n",
      " |-- ts: double (nullable = true)\n",
      " |-- userAgent: string (nullable = true)\n",
      " |-- userId: integer (nullable = true)\n",
      "\n"
     ]
    }
   ],
   "source": [
    "log_schema = StructType([\n",
    "    StructField(\"artist\", StringType()),\n",
    "    StructField(\"auth\", StringType()),\n",
    "    StructField(\"firstName\", StringType()),\n",
    "    StructField(\"gender\", StringType()),\n",
    "    StructField(\"itemInSession\", IntegerType()),\n",
    "    StructField(\"lastName\", StringType()),\n",
    "    StructField(\"length\", DoubleType()),\n",
    "    StructField(\"level\", StringType()),\n",
    "    StructField(\"location\", StringType()),\n",
    "    StructField(\"method\", StringType()),\n",
    "    StructField(\"page\", StringType()),\n",
    "    StructField(\"registration\", DoubleType()),\n",
    "    StructField(\"sessionId\", IntegerType()),\n",
    "    StructField(\"song\", StringType()),\n",
    "    StructField(\"status\", IntegerType()),\n",
    "    StructField(\"ts\", DoubleType()),\n",
    "    StructField(\"userAgent\", StringType()),\n",
    "    StructField(\"userId\", IntegerType()),\n",
    "])\n",
    "logs = spark.read.json(log_data, schema=log_schema)\n",
    "logs.printSchema()"
   ]
  },
  {
   "cell_type": "code",
   "execution_count": 37,
   "id": "ad4004c4",
   "metadata": {
    "scrolled": true
   },
   "outputs": [
    {
     "data": {
      "text/html": [
       "<div>\n",
       "<style scoped>\n",
       "    .dataframe tbody tr th:only-of-type {\n",
       "        vertical-align: middle;\n",
       "    }\n",
       "\n",
       "    .dataframe tbody tr th {\n",
       "        vertical-align: top;\n",
       "    }\n",
       "\n",
       "    .dataframe thead th {\n",
       "        text-align: right;\n",
       "    }\n",
       "</style>\n",
       "<table border=\"1\" class=\"dataframe\">\n",
       "  <thead>\n",
       "    <tr style=\"text-align: right;\">\n",
       "      <th></th>\n",
       "      <th>artist</th>\n",
       "      <th>auth</th>\n",
       "      <th>firstName</th>\n",
       "      <th>gender</th>\n",
       "      <th>itemInSession</th>\n",
       "      <th>lastName</th>\n",
       "      <th>length</th>\n",
       "      <th>level</th>\n",
       "      <th>location</th>\n",
       "      <th>method</th>\n",
       "      <th>page</th>\n",
       "      <th>registration</th>\n",
       "      <th>sessionId</th>\n",
       "      <th>song</th>\n",
       "      <th>status</th>\n",
       "      <th>ts</th>\n",
       "      <th>userAgent</th>\n",
       "      <th>userId</th>\n",
       "    </tr>\n",
       "  </thead>\n",
       "  <tbody>\n",
       "    <tr>\n",
       "      <th>0</th>\n",
       "      <td>Harmonia</td>\n",
       "      <td>Logged In</td>\n",
       "      <td>Ryan</td>\n",
       "      <td>M</td>\n",
       "      <td>0</td>\n",
       "      <td>Smith</td>\n",
       "      <td>655.77751</td>\n",
       "      <td>free</td>\n",
       "      <td>San Jose-Sunnyvale-Santa Clara, CA</td>\n",
       "      <td>PUT</td>\n",
       "      <td>NextSong</td>\n",
       "      <td>1.541017e+12</td>\n",
       "      <td>583</td>\n",
       "      <td>Sehr kosmisch</td>\n",
       "      <td>200</td>\n",
       "      <td>1.542242e+12</td>\n",
       "      <td>\"Mozilla/5.0 (X11; Linux x86_64) AppleWebKit/5...</td>\n",
       "      <td>NaN</td>\n",
       "    </tr>\n",
       "    <tr>\n",
       "      <th>1</th>\n",
       "      <td>The Prodigy</td>\n",
       "      <td>Logged In</td>\n",
       "      <td>Ryan</td>\n",
       "      <td>M</td>\n",
       "      <td>1</td>\n",
       "      <td>Smith</td>\n",
       "      <td>260.07465</td>\n",
       "      <td>free</td>\n",
       "      <td>San Jose-Sunnyvale-Santa Clara, CA</td>\n",
       "      <td>PUT</td>\n",
       "      <td>NextSong</td>\n",
       "      <td>1.541017e+12</td>\n",
       "      <td>583</td>\n",
       "      <td>The Big Gundown</td>\n",
       "      <td>200</td>\n",
       "      <td>1.542242e+12</td>\n",
       "      <td>\"Mozilla/5.0 (X11; Linux x86_64) AppleWebKit/5...</td>\n",
       "      <td>NaN</td>\n",
       "    </tr>\n",
       "    <tr>\n",
       "      <th>2</th>\n",
       "      <td>Train</td>\n",
       "      <td>Logged In</td>\n",
       "      <td>Ryan</td>\n",
       "      <td>M</td>\n",
       "      <td>2</td>\n",
       "      <td>Smith</td>\n",
       "      <td>205.45261</td>\n",
       "      <td>free</td>\n",
       "      <td>San Jose-Sunnyvale-Santa Clara, CA</td>\n",
       "      <td>PUT</td>\n",
       "      <td>NextSong</td>\n",
       "      <td>1.541017e+12</td>\n",
       "      <td>583</td>\n",
       "      <td>Marry Me</td>\n",
       "      <td>200</td>\n",
       "      <td>1.542243e+12</td>\n",
       "      <td>\"Mozilla/5.0 (X11; Linux x86_64) AppleWebKit/5...</td>\n",
       "      <td>NaN</td>\n",
       "    </tr>\n",
       "  </tbody>\n",
       "</table>\n",
       "</div>"
      ],
      "text/plain": [
       "        artist       auth firstName gender  itemInSession lastName     length  \\\n",
       "0     Harmonia  Logged In      Ryan      M              0    Smith  655.77751   \n",
       "1  The Prodigy  Logged In      Ryan      M              1    Smith  260.07465   \n",
       "2        Train  Logged In      Ryan      M              2    Smith  205.45261   \n",
       "\n",
       "  level                            location method      page  registration  \\\n",
       "0  free  San Jose-Sunnyvale-Santa Clara, CA    PUT  NextSong  1.541017e+12   \n",
       "1  free  San Jose-Sunnyvale-Santa Clara, CA    PUT  NextSong  1.541017e+12   \n",
       "2  free  San Jose-Sunnyvale-Santa Clara, CA    PUT  NextSong  1.541017e+12   \n",
       "\n",
       "   sessionId             song  status            ts  \\\n",
       "0        583    Sehr kosmisch     200  1.542242e+12   \n",
       "1        583  The Big Gundown     200  1.542242e+12   \n",
       "2        583         Marry Me     200  1.542243e+12   \n",
       "\n",
       "                                           userAgent  userId  \n",
       "0  \"Mozilla/5.0 (X11; Linux x86_64) AppleWebKit/5...     NaN  \n",
       "1  \"Mozilla/5.0 (X11; Linux x86_64) AppleWebKit/5...     NaN  \n",
       "2  \"Mozilla/5.0 (X11; Linux x86_64) AppleWebKit/5...     NaN  "
      ]
     },
     "execution_count": 37,
     "metadata": {},
     "output_type": "execute_result"
    }
   ],
   "source": [
    "logs.limit(3).toPandas()"
   ]
  },
  {
   "cell_type": "code",
   "execution_count": 38,
   "id": "9f49af4e",
   "metadata": {},
   "outputs": [],
   "source": [
    "logs = logs.withColumn(\"timestamp\", F.to_timestamp(F.col(\"ts\") / 1000))"
   ]
  },
  {
   "cell_type": "code",
   "execution_count": 39,
   "id": "05c4fe1b",
   "metadata": {},
   "outputs": [
    {
     "data": {
      "text/html": [
       "<div>\n",
       "<style scoped>\n",
       "    .dataframe tbody tr th:only-of-type {\n",
       "        vertical-align: middle;\n",
       "    }\n",
       "\n",
       "    .dataframe tbody tr th {\n",
       "        vertical-align: top;\n",
       "    }\n",
       "\n",
       "    .dataframe thead th {\n",
       "        text-align: right;\n",
       "    }\n",
       "</style>\n",
       "<table border=\"1\" class=\"dataframe\">\n",
       "  <thead>\n",
       "    <tr style=\"text-align: right;\">\n",
       "      <th></th>\n",
       "      <th>artist</th>\n",
       "      <th>auth</th>\n",
       "      <th>firstName</th>\n",
       "      <th>gender</th>\n",
       "      <th>itemInSession</th>\n",
       "      <th>lastName</th>\n",
       "      <th>length</th>\n",
       "      <th>level</th>\n",
       "      <th>location</th>\n",
       "      <th>method</th>\n",
       "      <th>page</th>\n",
       "      <th>registration</th>\n",
       "      <th>sessionId</th>\n",
       "      <th>song</th>\n",
       "      <th>status</th>\n",
       "      <th>ts</th>\n",
       "      <th>userAgent</th>\n",
       "      <th>userId</th>\n",
       "      <th>timestamp</th>\n",
       "    </tr>\n",
       "  </thead>\n",
       "  <tbody>\n",
       "    <tr>\n",
       "      <th>0</th>\n",
       "      <td>Harmonia</td>\n",
       "      <td>Logged In</td>\n",
       "      <td>Ryan</td>\n",
       "      <td>M</td>\n",
       "      <td>0</td>\n",
       "      <td>Smith</td>\n",
       "      <td>655.77751</td>\n",
       "      <td>free</td>\n",
       "      <td>San Jose-Sunnyvale-Santa Clara, CA</td>\n",
       "      <td>PUT</td>\n",
       "      <td>NextSong</td>\n",
       "      <td>1.541017e+12</td>\n",
       "      <td>583</td>\n",
       "      <td>Sehr kosmisch</td>\n",
       "      <td>200</td>\n",
       "      <td>1.542242e+12</td>\n",
       "      <td>\"Mozilla/5.0 (X11; Linux x86_64) AppleWebKit/5...</td>\n",
       "      <td>NaN</td>\n",
       "      <td>2018-11-15 00:30:26.796</td>\n",
       "    </tr>\n",
       "    <tr>\n",
       "      <th>1</th>\n",
       "      <td>The Prodigy</td>\n",
       "      <td>Logged In</td>\n",
       "      <td>Ryan</td>\n",
       "      <td>M</td>\n",
       "      <td>1</td>\n",
       "      <td>Smith</td>\n",
       "      <td>260.07465</td>\n",
       "      <td>free</td>\n",
       "      <td>San Jose-Sunnyvale-Santa Clara, CA</td>\n",
       "      <td>PUT</td>\n",
       "      <td>NextSong</td>\n",
       "      <td>1.541017e+12</td>\n",
       "      <td>583</td>\n",
       "      <td>The Big Gundown</td>\n",
       "      <td>200</td>\n",
       "      <td>1.542242e+12</td>\n",
       "      <td>\"Mozilla/5.0 (X11; Linux x86_64) AppleWebKit/5...</td>\n",
       "      <td>NaN</td>\n",
       "      <td>2018-11-15 00:41:21.796</td>\n",
       "    </tr>\n",
       "    <tr>\n",
       "      <th>2</th>\n",
       "      <td>Train</td>\n",
       "      <td>Logged In</td>\n",
       "      <td>Ryan</td>\n",
       "      <td>M</td>\n",
       "      <td>2</td>\n",
       "      <td>Smith</td>\n",
       "      <td>205.45261</td>\n",
       "      <td>free</td>\n",
       "      <td>San Jose-Sunnyvale-Santa Clara, CA</td>\n",
       "      <td>PUT</td>\n",
       "      <td>NextSong</td>\n",
       "      <td>1.541017e+12</td>\n",
       "      <td>583</td>\n",
       "      <td>Marry Me</td>\n",
       "      <td>200</td>\n",
       "      <td>1.542243e+12</td>\n",
       "      <td>\"Mozilla/5.0 (X11; Linux x86_64) AppleWebKit/5...</td>\n",
       "      <td>NaN</td>\n",
       "      <td>2018-11-15 00:45:41.796</td>\n",
       "    </tr>\n",
       "  </tbody>\n",
       "</table>\n",
       "</div>"
      ],
      "text/plain": [
       "        artist       auth firstName gender  itemInSession lastName     length  \\\n",
       "0     Harmonia  Logged In      Ryan      M              0    Smith  655.77751   \n",
       "1  The Prodigy  Logged In      Ryan      M              1    Smith  260.07465   \n",
       "2        Train  Logged In      Ryan      M              2    Smith  205.45261   \n",
       "\n",
       "  level                            location method      page  registration  \\\n",
       "0  free  San Jose-Sunnyvale-Santa Clara, CA    PUT  NextSong  1.541017e+12   \n",
       "1  free  San Jose-Sunnyvale-Santa Clara, CA    PUT  NextSong  1.541017e+12   \n",
       "2  free  San Jose-Sunnyvale-Santa Clara, CA    PUT  NextSong  1.541017e+12   \n",
       "\n",
       "   sessionId             song  status            ts  \\\n",
       "0        583    Sehr kosmisch     200  1.542242e+12   \n",
       "1        583  The Big Gundown     200  1.542242e+12   \n",
       "2        583         Marry Me     200  1.542243e+12   \n",
       "\n",
       "                                           userAgent  userId  \\\n",
       "0  \"Mozilla/5.0 (X11; Linux x86_64) AppleWebKit/5...     NaN   \n",
       "1  \"Mozilla/5.0 (X11; Linux x86_64) AppleWebKit/5...     NaN   \n",
       "2  \"Mozilla/5.0 (X11; Linux x86_64) AppleWebKit/5...     NaN   \n",
       "\n",
       "                timestamp  \n",
       "0 2018-11-15 00:30:26.796  \n",
       "1 2018-11-15 00:41:21.796  \n",
       "2 2018-11-15 00:45:41.796  "
      ]
     },
     "execution_count": 39,
     "metadata": {},
     "output_type": "execute_result"
    }
   ],
   "source": [
    "logs.limit(3).toPandas()"
   ]
  },
  {
   "cell_type": "code",
   "execution_count": 40,
   "id": "4dd1eb89",
   "metadata": {},
   "outputs": [],
   "source": [
    "logs.createOrReplaceTempView(\"staging_events\")"
   ]
  },
  {
   "cell_type": "markdown",
   "id": "e7dd785d",
   "metadata": {},
   "source": [
    "## ETL"
   ]
  },
  {
   "cell_type": "code",
   "execution_count": 41,
   "id": "b4e5497f",
   "metadata": {},
   "outputs": [],
   "source": [
    "songs_table = spark.sql(\"\"\"\n",
    "    SELECT\n",
    "      DISTINCT song_id AS song_id,\n",
    "      title,\n",
    "      artist_id,\n",
    "      year,\n",
    "      duration\n",
    "    FROM\n",
    "      staging_songs\n",
    "\"\"\")"
   ]
  },
  {
   "cell_type": "code",
   "execution_count": 46,
   "id": "329db03a",
   "metadata": {},
   "outputs": [],
   "source": [
    "# songs_table.write \\\n",
    "#     .partitionBy(\"year\", \"artist_id\") \\\n",
    "#     .mode(\"overwrite\") \\\n",
    "#     .parquet(f\"{output_data}/songs\")"
   ]
  },
  {
   "cell_type": "code",
   "execution_count": 47,
   "id": "da5b016c",
   "metadata": {},
   "outputs": [],
   "source": [
    "songs_table.write \\\n",
    "    .partitionBy(\"year\", \"artist_id\") \\\n",
    "    .mode(\"overwrite\") \\\n",
    "    .csv(f\"{output_data}/songs\")"
   ]
  },
  {
   "cell_type": "code",
   "execution_count": 48,
   "id": "d5e05faf",
   "metadata": {},
   "outputs": [],
   "source": [
    "artists_table = spark.sql(\"\"\"\n",
    "    SELECT\n",
    "      DISTINCT artist_id,\n",
    "      artist_name,\n",
    "      artist_location,\n",
    "      artist_latitude,\n",
    "      artist_longitude\n",
    "    FROM\n",
    "      staging_songs\n",
    "\"\"\")"
   ]
  },
  {
   "cell_type": "code",
   "execution_count": 49,
   "id": "8bb3e880",
   "metadata": {},
   "outputs": [],
   "source": [
    "# artists_table.write \\\n",
    "#     .mode(\"overwrite\") \\\n",
    "#     .parquet(f\"{output_data}/artists\")"
   ]
  },
  {
   "cell_type": "code",
   "execution_count": 50,
   "id": "aacde26c",
   "metadata": {},
   "outputs": [],
   "source": [
    "artists_table.write \\\n",
    "    .mode(\"overwrite\") \\\n",
    "    .csv(f\"{output_data}/artists\")"
   ]
  },
  {
   "cell_type": "code",
   "execution_count": 51,
   "id": "f46e848b",
   "metadata": {},
   "outputs": [],
   "source": [
    "users_table = spark.sql(\"\"\"\n",
    "    SELECT\n",
    "      DISTINCT userid AS user_id,\n",
    "      firstname AS first_name,\n",
    "      lastname AS last_name,\n",
    "      gender,\n",
    "      level\n",
    "    FROM\n",
    "      staging_events\n",
    "    WHERE\n",
    "      page = 'NextSong'\n",
    "\"\"\")"
   ]
  },
  {
   "cell_type": "code",
   "execution_count": 52,
   "id": "25eb7b74",
   "metadata": {},
   "outputs": [],
   "source": [
    "# users_table.write \\\n",
    "#     .mode(\"overwrite\") \\\n",
    "#     .parquet(f\"{output_data}/users\")"
   ]
  },
  {
   "cell_type": "code",
   "execution_count": 53,
   "id": "45996b5c",
   "metadata": {},
   "outputs": [],
   "source": [
    "users_table.write \\\n",
    "    .mode(\"overwrite\") \\\n",
    "    .csv(f\"{output_data}/users\")"
   ]
  },
  {
   "cell_type": "code",
   "execution_count": 54,
   "id": "5e6deab3",
   "metadata": {},
   "outputs": [],
   "source": [
    "time_table = spark.sql(\"\"\"\n",
    "    SELECT\n",
    "      DISTINCT timestamp AS start_time,\n",
    "      EXTRACT(hour FROM timestamp) AS hour,\n",
    "      EXTRACT(day FROM timestamp) AS day,\n",
    "      EXTRACT(week FROM timestamp) AS week,\n",
    "      EXTRACT(month FROM timestamp) AS month,\n",
    "      EXTRACT(year FROM timestamp) AS year,\n",
    "      EXTRACT(dayofweek FROM timestamp) AS weekday\n",
    "    FROM\n",
    "      staging_events\n",
    "\"\"\")"
   ]
  },
  {
   "cell_type": "code",
   "execution_count": 55,
   "id": "c9d8fcee",
   "metadata": {},
   "outputs": [],
   "source": [
    "# time_table.write \\\n",
    "#     .partitionBy(\"year\", \"month\") \\\n",
    "#     .mode(\"overwrite\") \\\n",
    "#     .parquet(f\"{output_data}/time\")"
   ]
  },
  {
   "cell_type": "code",
   "execution_count": 56,
   "id": "fa005e56",
   "metadata": {},
   "outputs": [],
   "source": [
    "time_table.write \\\n",
    "    .partitionBy(\"year\", \"month\") \\\n",
    "    .mode(\"overwrite\") \\\n",
    "    .csv(f\"{output_data}/time\")"
   ]
  },
  {
   "cell_type": "code",
   "execution_count": 57,
   "id": "93730afd",
   "metadata": {},
   "outputs": [],
   "source": [
    "songplays_table = spark.sql(\"\"\"\n",
    "    SELECT\n",
    "      timestamp AS start_time,\n",
    "      e.userid AS user_id,\n",
    "      e.level AS level,\n",
    "      s.song_id AS song_id,\n",
    "      s.artist_id AS artist_id,\n",
    "      e.sessionId AS session_id,\n",
    "      e.location AS location,\n",
    "      e.userAgent AS user_agent,\n",
    "      EXTRACT(month FROM timestamp) AS month,\n",
    "      EXTRACT(year FROM timestamp) AS year\n",
    "    FROM\n",
    "      staging_events e\n",
    "    JOIN\n",
    "      staging_songs s\n",
    "    ON\n",
    "      e.artist = s.artist_name\n",
    "      AND e.song = s.title\n",
    "    WHERE\n",
    "      e.page = 'NextSong'\n",
    "\"\"\")"
   ]
  },
  {
   "cell_type": "code",
   "execution_count": 58,
   "id": "02eafbb2",
   "metadata": {},
   "outputs": [],
   "source": [
    "# songplays_table.write \\\n",
    "#     .partitionBy(\"year\", \"month\") \\\n",
    "#     .mode(\"overwrite\") \\\n",
    "#     .parquet(f\"{output_data}/songplays\")"
   ]
  },
  {
   "cell_type": "code",
   "execution_count": 59,
   "id": "560d4c94",
   "metadata": {},
   "outputs": [],
   "source": [
    "songplays_table.write \\\n",
    "    .partitionBy(\"year\", \"month\") \\\n",
    "    .mode(\"overwrite\") \\\n",
    "    .csv(f\"{output_data}/songplays\")"
   ]
  }
 ],
 "metadata": {
  "kernelspec": {
   "display_name": "Python 3 (ipykernel)",
   "language": "python",
   "name": "python3"
  },
  "language_info": {
   "codemirror_mode": {
    "name": "ipython",
    "version": 3
   },
   "file_extension": ".py",
   "mimetype": "text/x-python",
   "name": "python",
   "nbconvert_exporter": "python",
   "pygments_lexer": "ipython3",
   "version": "3.9.7"
  }
 },
 "nbformat": 4,
 "nbformat_minor": 5
}
