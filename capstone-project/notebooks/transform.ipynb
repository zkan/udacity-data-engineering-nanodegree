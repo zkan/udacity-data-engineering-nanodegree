{
 "cells": [
  {
   "cell_type": "code",
   "execution_count": 1,
   "id": "19eebafd-1c2c-4f15-b1dd-36c8a80d8043",
   "metadata": {},
   "outputs": [],
   "source": [
    "from pyspark import SparkConf\n",
    "from pyspark.sql import SparkSession"
   ]
  },
  {
   "cell_type": "code",
   "execution_count": 2,
   "id": "1d6411ae-d493-4c2a-be1e-4a7b73a0cb29",
   "metadata": {},
   "outputs": [],
   "source": [
    "# conf = SparkConf().setAll([\n",
    "#     (\"spark.executor.memory\", \"10g\"),\n",
    "#     (\"spark.executor.cores\", \"3\"),\n",
    "#     (\"spark.cores.max\", \"3\"), \n",
    "#     (\"spark.driver.memory\", \"8g\")\n",
    "# ])\n",
    "# spark = SparkSession \\\n",
    "#     .builder \\\n",
    "#     .config(conf=conf) \\\n",
    "#     .appName(\"Wrangling Data with Spark SQL\") \\\n",
    "#     .getOrCreate()\n",
    "\n",
    "spark = SparkSession \\\n",
    "    .builder \\\n",
    "    .appName(\"Wrangling Data with Spark SQL\") \\\n",
    "    .getOrCreate()"
   ]
  },
  {
   "cell_type": "code",
   "execution_count": 3,
   "id": "b45f4838-a1a0-45b0-84c7-148d0edb8997",
   "metadata": {},
   "outputs": [],
   "source": [
    "path = \"data/worldbank-country-profile-small.json\"\n",
    "worldbank_country_profile_df = spark.read.json(path)"
   ]
  },
  {
   "cell_type": "code",
   "execution_count": 4,
   "id": "9a1136a0-ed47-41d6-b504-0a0413adbe6e",
   "metadata": {},
   "outputs": [],
   "source": [
    "worldbank_country_profile_df.createOrReplaceTempView(\"worldbank_country_profile_df\")"
   ]
  },
  {
   "cell_type": "code",
   "execution_count": 5,
   "id": "53be51de-a30b-48c2-8eb0-cfd84a2251aa",
   "metadata": {},
   "outputs": [
    {
     "name": "stdout",
     "output_type": "stream",
     "text": [
      "+------------+------------+--------------------+--------------------+-------------------+----+\n",
      "|country_code|country_name|      indicator_code|      indicator_name|              value|year|\n",
      "+------------+------------+--------------------+--------------------+-------------------+----+\n",
      "|         BTN|      Bhutan|   GC.XPN.INTP.RV.ZS|Interest payments...|  6.530876741194653|2010|\n",
      "|         BTN|      Bhutan|      GC.TAX.IMPT.CN|Customs and other...|          6500000.0|1991|\n",
      "|         BTN|      Bhutan|   GC.LBL.TOTL.GD.ZS|Net incurrence of...|-1.2783041330882963|2012|\n",
      "|         BTN|      Bhutan|   FM.AST.PRVT.ZG.M3|Claims on private...| 10.318532196834312|2006|\n",
      "|         BTN|      Bhutan|   FM.AST.PRVT.ZG.M3|Claims on private...|  13.60415345076114|2018|\n",
      "|         BTN|      Bhutan|      ER.FSH.AQUA.MT|Aquaculture produ...|              139.0|2014|\n",
      "|         BTN|      Bhutan|   EN.ATM.NOXE.KT.CE|Nitrous oxide emi...|          150.25359|1981|\n",
      "|         BTN|      Bhutan|   EN.ATM.NOXE.KT.CE|Nitrous oxide emi...|              180.0|2006|\n",
      "|         BTN|      Bhutan|   DT.ODA.ODAT.PC.ZS|Net ODA received ...|0.04157502744568256|1963|\n",
      "|         BTN|      Bhutan|   DT.ODA.ODAT.PC.ZS|Net ODA received ...|  90.46737990890576|2001|\n",
      "|         BTN|      Bhutan|   DT.ODA.ODAT.PC.ZS|Net ODA received ...| 133.64748384607034|2015|\n",
      "|         BTN|      Bhutan|      DC.DAC.KORL.CD|Net bilateral aid...|   529999.971389771|2018|\n",
      "|         BTN|      Bhutan|BX.KLT.DINV.WD.GD.ZS|Foreign direct in...| 0.6997454683182075|2006|\n",
      "|         BTN|      Bhutan|BX.KLT.DINV.WD.GD.ZS|Foreign direct in...| 1.2340750417274855|2014|\n",
      "+------------+------------+--------------------+--------------------+-------------------+----+\n",
      "\n"
     ]
    }
   ],
   "source": [
    "spark.sql(\"select fields.* from worldbank_country_profile_df\").show()"
   ]
  },
  {
   "cell_type": "code",
   "execution_count": 7,
   "id": "64cb5b9f-0181-4869-ad29-ac266328245b",
   "metadata": {},
   "outputs": [],
   "source": [
    "spark.sql(\"select fields.* from worldbank_country_profile_df\") \\\n",
    "    .write \\\n",
    "    .mode(\"overwrite\") \\\n",
    "    .parquet(\"data/worldbank.parquet\")"
   ]
  },
  {
   "cell_type": "code",
   "execution_count": 8,
   "id": "5cc6ecb5-21d9-4fb4-bbd0-43d3132593a9",
   "metadata": {},
   "outputs": [],
   "source": [
    "path = \"data/GlobalLandTemperaturesByCity.csv\"\n",
    "global_land_temperature_df = spark.read \\\n",
    "    .option(\"header\", True) \\\n",
    "    .csv(path)"
   ]
  },
  {
   "cell_type": "code",
   "execution_count": 9,
   "id": "0bf34bba-8dd7-4708-859c-69f0be1a89ee",
   "metadata": {},
   "outputs": [
    {
     "name": "stdout",
     "output_type": "stream",
     "text": [
      "+----------+-------------------+-----------------------------+-----+-------+--------+---------+\n",
      "|        dt| AverageTemperature|AverageTemperatureUncertainty| City|Country|Latitude|Longitude|\n",
      "+----------+-------------------+-----------------------------+-----+-------+--------+---------+\n",
      "|1743-11-01|              6.068|           1.7369999999999999|Århus|Denmark|  57.05N|   10.33E|\n",
      "|1743-12-01|               null|                         null|Århus|Denmark|  57.05N|   10.33E|\n",
      "|1744-01-01|               null|                         null|Århus|Denmark|  57.05N|   10.33E|\n",
      "|1744-02-01|               null|                         null|Århus|Denmark|  57.05N|   10.33E|\n",
      "|1744-03-01|               null|                         null|Århus|Denmark|  57.05N|   10.33E|\n",
      "|1744-04-01| 5.7879999999999985|           3.6239999999999997|Århus|Denmark|  57.05N|   10.33E|\n",
      "|1744-05-01|             10.644|           1.2830000000000001|Århus|Denmark|  57.05N|   10.33E|\n",
      "|1744-06-01| 14.050999999999998|                        1.347|Århus|Denmark|  57.05N|   10.33E|\n",
      "|1744-07-01|             16.082|                        1.396|Århus|Denmark|  57.05N|   10.33E|\n",
      "|1744-08-01|               null|                         null|Århus|Denmark|  57.05N|   10.33E|\n",
      "|1744-09-01| 12.780999999999999|                        1.454|Århus|Denmark|  57.05N|   10.33E|\n",
      "|1744-10-01|               7.95|                         1.63|Århus|Denmark|  57.05N|   10.33E|\n",
      "|1744-11-01|  4.638999999999999|           1.3019999999999998|Århus|Denmark|  57.05N|   10.33E|\n",
      "|1744-12-01|0.12199999999999987|                        1.756|Århus|Denmark|  57.05N|   10.33E|\n",
      "|1745-01-01|-1.3330000000000002|                        1.642|Århus|Denmark|  57.05N|   10.33E|\n",
      "|1745-02-01|             -2.732|                        1.358|Århus|Denmark|  57.05N|   10.33E|\n",
      "|1745-03-01|              0.129|                        1.088|Århus|Denmark|  57.05N|   10.33E|\n",
      "|1745-04-01|              4.042|                        1.138|Århus|Denmark|  57.05N|   10.33E|\n",
      "|1745-05-01|               null|                         null|Århus|Denmark|  57.05N|   10.33E|\n",
      "|1745-06-01|               null|                         null|Århus|Denmark|  57.05N|   10.33E|\n",
      "+----------+-------------------+-----------------------------+-----+-------+--------+---------+\n",
      "only showing top 20 rows\n",
      "\n"
     ]
    }
   ],
   "source": [
    "global_land_temperature_df.show()"
   ]
  },
  {
   "cell_type": "code",
   "execution_count": 10,
   "id": "2ca6baf2-ae97-410d-bec3-629951e92f40",
   "metadata": {},
   "outputs": [],
   "source": [
    "global_land_temperature_df.createOrReplaceTempView(\"global_land_temperature_df\")"
   ]
  },
  {
   "cell_type": "code",
   "execution_count": 11,
   "id": "fc8b12b1-1fab-40a2-8fd5-741342ca7e55",
   "metadata": {},
   "outputs": [
    {
     "name": "stdout",
     "output_type": "stream",
     "text": [
      "+----------+-------------------+-----------------------------+-----+-------+--------+---------+\n",
      "|        dt| AverageTemperature|AverageTemperatureUncertainty| City|Country|Latitude|Longitude|\n",
      "+----------+-------------------+-----------------------------+-----+-------+--------+---------+\n",
      "|1743-11-01|              6.068|           1.7369999999999999|Århus|Denmark|  57.05N|   10.33E|\n",
      "|1743-12-01|               null|                         null|Århus|Denmark|  57.05N|   10.33E|\n",
      "|1744-01-01|               null|                         null|Århus|Denmark|  57.05N|   10.33E|\n",
      "|1744-02-01|               null|                         null|Århus|Denmark|  57.05N|   10.33E|\n",
      "|1744-03-01|               null|                         null|Århus|Denmark|  57.05N|   10.33E|\n",
      "|1744-04-01| 5.7879999999999985|           3.6239999999999997|Århus|Denmark|  57.05N|   10.33E|\n",
      "|1744-05-01|             10.644|           1.2830000000000001|Århus|Denmark|  57.05N|   10.33E|\n",
      "|1744-06-01| 14.050999999999998|                        1.347|Århus|Denmark|  57.05N|   10.33E|\n",
      "|1744-07-01|             16.082|                        1.396|Århus|Denmark|  57.05N|   10.33E|\n",
      "|1744-08-01|               null|                         null|Århus|Denmark|  57.05N|   10.33E|\n",
      "|1744-09-01| 12.780999999999999|                        1.454|Århus|Denmark|  57.05N|   10.33E|\n",
      "|1744-10-01|               7.95|                         1.63|Århus|Denmark|  57.05N|   10.33E|\n",
      "|1744-11-01|  4.638999999999999|           1.3019999999999998|Århus|Denmark|  57.05N|   10.33E|\n",
      "|1744-12-01|0.12199999999999987|                        1.756|Århus|Denmark|  57.05N|   10.33E|\n",
      "|1745-01-01|-1.3330000000000002|                        1.642|Århus|Denmark|  57.05N|   10.33E|\n",
      "|1745-02-01|             -2.732|                        1.358|Århus|Denmark|  57.05N|   10.33E|\n",
      "|1745-03-01|              0.129|                        1.088|Århus|Denmark|  57.05N|   10.33E|\n",
      "|1745-04-01|              4.042|                        1.138|Århus|Denmark|  57.05N|   10.33E|\n",
      "|1745-05-01|               null|                         null|Århus|Denmark|  57.05N|   10.33E|\n",
      "|1745-06-01|               null|                         null|Århus|Denmark|  57.05N|   10.33E|\n",
      "+----------+-------------------+-----------------------------+-----+-------+--------+---------+\n",
      "only showing top 20 rows\n",
      "\n"
     ]
    }
   ],
   "source": [
    "spark.sql(\"select * from global_land_temperature_df\").show()"
   ]
  },
  {
   "cell_type": "code",
   "execution_count": null,
   "id": "a2d1ccf7-1dfc-48c5-8325-f817ae631529",
   "metadata": {},
   "outputs": [],
   "source": []
  }
 ],
 "metadata": {
  "kernelspec": {
   "display_name": "Python 3 (ipykernel)",
   "language": "python",
   "name": "python3"
  },
  "language_info": {
   "codemirror_mode": {
    "name": "ipython",
    "version": 3
   },
   "file_extension": ".py",
   "mimetype": "text/x-python",
   "name": "python",
   "nbconvert_exporter": "python",
   "pygments_lexer": "ipython3",
   "version": "3.9.10"
  }
 },
 "nbformat": 4,
 "nbformat_minor": 5
}
