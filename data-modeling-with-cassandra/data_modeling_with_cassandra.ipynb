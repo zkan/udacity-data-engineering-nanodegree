{
 "cells": [
  {
   "cell_type": "markdown",
   "metadata": {},
   "source": [
    "# Data Modeling with Apache Cassandra"
   ]
  },
  {
   "cell_type": "markdown",
   "metadata": {},
   "source": [
    "In this project, we model songs and user activity data and develop an ETL pipeline using Python to transfer\n",
    "and insert the data into Apache Cassandra tables. We divide this project into 2 parts:\n",
    "\n",
    "* [Part I. Creating an ETL Pipeline for Pre-Processing the Files](#Part-I.-Creating-an-ETL-Pipeline-for-Pre-Processing-the-Files)\n",
    "* [Part II. Modeling Data with the Apache Cassandra](#Part-II.-Modeling-Data-with-the-Apache-Cassandra)"
   ]
  },
  {
   "cell_type": "markdown",
   "metadata": {},
   "source": [
    "## Part I. Creating an ETL Pipeline for Pre-Processing the Files"
   ]
  },
  {
   "cell_type": "markdown",
   "metadata": {},
   "source": [
    "#### Import Python packages "
   ]
  },
  {
   "cell_type": "code",
   "execution_count": 1,
   "metadata": {},
   "outputs": [],
   "source": [
    "import csv\n",
    "import glob\n",
    "import json\n",
    "import os\n",
    "import re\n",
    "from typing import List\n",
    "\n",
    "import cassandra\n",
    "import numpy as np\n",
    "import pandas as pd"
   ]
  },
  {
   "cell_type": "markdown",
   "metadata": {},
   "source": [
    "#### Creating list of filepaths to process original event csv data files"
   ]
  },
  {
   "cell_type": "code",
   "execution_count": 2,
   "metadata": {},
   "outputs": [],
   "source": [
    "filepath = os.getcwd() + \"/event_data\"\n",
    "for root, dirs, files in os.walk(filepath):\n",
    "    file_path_list = glob.glob(os.path.join(root, \"*\"))"
   ]
  },
  {
   "cell_type": "markdown",
   "metadata": {},
   "source": [
    "#### Processing the files to create the data file csv that will be used for Apache Cassandra tables"
   ]
  },
  {
   "cell_type": "code",
   "execution_count": 3,
   "metadata": {},
   "outputs": [],
   "source": [
    "def read_csv_files(file_path_list: List[str]) -> List[List[str]]:\n",
    "    \"\"\"\n",
    "    Description: This function is responsible for reading a list of CSV files\n",
    "    and return a list of event data (a list of values)\n",
    "    \n",
    "    Arguments:\n",
    "        file_path_list: the list of file paths\n",
    "        \n",
    "    Returns:\n",
    "        List of event data (a list of values)\n",
    "    \"\"\"\n",
    "\n",
    "    full_data_rows_list = [] \n",
    "    \n",
    "    for f in file_path_list:\n",
    "        with open(f, \"r\", encoding=\"utf8\", newline=\"\") as csvfile: \n",
    "            csvreader = csv.reader(csvfile) \n",
    "            next(csvreader)\n",
    "\n",
    "            for line in csvreader:\n",
    "                full_data_rows_list.append(line) \n",
    "\n",
    "    return full_data_rows_list"
   ]
  },
  {
   "cell_type": "code",
   "execution_count": 4,
   "metadata": {},
   "outputs": [
    {
     "name": "stdout",
     "output_type": "stream",
     "text": [
      "Total number of rows: 8056\n",
      "List of event data (only first 5 rows): [['Harmonia', 'Logged In', 'Ryan', 'M', '0', 'Smith', '655.77751', 'free', 'San Jose-Sunnyvale-Santa Clara, CA', 'PUT', 'NextSong', '1.54102E+12', '583', 'Sehr kosmisch', '200', '1.54224E+12', '26'], ['The Prodigy', 'Logged In', 'Ryan', 'M', '1', 'Smith', '260.07465', 'free', 'San Jose-Sunnyvale-Santa Clara, CA', 'PUT', 'NextSong', '1.54102E+12', '583', 'The Big Gundown', '200', '1.54224E+12', '26'], ['Train', 'Logged In', 'Ryan', 'M', '2', 'Smith', '205.45261', 'free', 'San Jose-Sunnyvale-Santa Clara, CA', 'PUT', 'NextSong', '1.54102E+12', '583', 'Marry Me', '200', '1.54224E+12', '26'], ['', 'Logged In', 'Wyatt', 'M', '0', 'Scott', '', 'free', 'Eureka-Arcata-Fortuna, CA', 'GET', 'Home', '1.54087E+12', '563', '', '200', '1.54225E+12', '9'], ['', 'Logged In', 'Austin', 'M', '0', 'Rosales', '', 'free', 'New York-Newark-Jersey City, NY-NJ-PA', 'GET', 'Home', '1.54106E+12', '521', '', '200', '1.54225E+12', '12']]\n"
     ]
    }
   ],
   "source": [
    "full_data_rows_list = read_csv_files(file_path_list)\n",
    "\n",
    "print(f\"Total number of rows: {len(full_data_rows_list)}\")\n",
    "print(f\"List of event data (only first 5 rows): {full_data_rows_list[:5]}\")"
   ]
  },
  {
   "cell_type": "code",
   "execution_count": 5,
   "metadata": {},
   "outputs": [],
   "source": [
    "csv.register_dialect(\"myDialect\", quoting=csv.QUOTE_ALL, skipinitialspace=True)\n",
    "\n",
    "column_names = [\n",
    "    \"artist\",\n",
    "    \"firstName\",\n",
    "    \"gender\",\n",
    "    \"itemInSession\",\n",
    "    \"lastName\",\n",
    "    \"length\",\n",
    "    \"level\",\n",
    "    \"location\",\n",
    "    \"sessionId\",\n",
    "    \"song\",\n",
    "    \"userId\",\n",
    "]\n",
    "with open(\"event_datafile_new.csv\", \"w\", encoding=\"utf8\", newline=\"\") as f:\n",
    "    writer = csv.writer(f, dialect=\"myDialect\")\n",
    "    writer.writerow(column_names)\n",
    "    for row in full_data_rows_list:\n",
    "        if (row[0] == \"\"):\n",
    "            continue\n",
    "        writer.writerow((row[0], row[2], row[3], row[4], row[5], row[6], row[7], row[8], row[12], row[13], row[16]))"
   ]
  },
  {
   "cell_type": "code",
   "execution_count": 6,
   "metadata": {},
   "outputs": [
    {
     "name": "stdout",
     "output_type": "stream",
     "text": [
      "Total number of rows: 6821\n"
     ]
    }
   ],
   "source": [
    "with open(\"event_datafile_new.csv\", \"r\", encoding=\"utf8\") as f:\n",
    "    print(f\"Total number of rows: {sum(1 for line in f)}\")"
   ]
  },
  {
   "cell_type": "markdown",
   "metadata": {},
   "source": [
    "## Part II. Modeling Data with the Apache Cassandra\n",
    "\n",
    "\n",
    "Now we're ready to work with the CSV file we created in the last part titled `event_datafile_new.csv`. The file contains the following columns:\n",
    "\n",
    "- artist \n",
    "- firstName of user\n",
    "- gender of user\n",
    "- item number in session\n",
    "- last name of user\n",
    "- length of the song\n",
    "- level (paid or free song)\n",
    "- location of the user\n",
    "- sessionId\n",
    "- song title\n",
    "- userId"
   ]
  },
  {
   "cell_type": "markdown",
   "metadata": {},
   "source": [
    "### Working with the Apache Cassandra"
   ]
  },
  {
   "cell_type": "markdown",
   "metadata": {},
   "source": [
    "#### Creating a Cluster and a Session"
   ]
  },
  {
   "cell_type": "code",
   "execution_count": 7,
   "metadata": {},
   "outputs": [],
   "source": [
    "from cassandra.cluster import Cluster\n",
    "\n",
    "\n",
    "cluster = Cluster(['127.0.0.1'])\n",
    "session = cluster.connect()"
   ]
  },
  {
   "cell_type": "markdown",
   "metadata": {},
   "source": [
    "#### Create Keyspace"
   ]
  },
  {
   "cell_type": "code",
   "execution_count": 8,
   "metadata": {},
   "outputs": [],
   "source": [
    "try:\n",
    "    session.execute(\n",
    "        \"\"\"\n",
    "        CREATE KEYSPACE IF NOT EXISTS sparkify \n",
    "        WITH REPLICATION = { 'class' : 'SimpleStrategy', 'replication_factor' : 1 }\n",
    "        \"\"\"\n",
    "    )\n",
    "except Exception as e:\n",
    "    print(e)"
   ]
  },
  {
   "cell_type": "markdown",
   "metadata": {},
   "source": [
    "#### Set Keyspace"
   ]
  },
  {
   "cell_type": "code",
   "execution_count": 9,
   "metadata": {},
   "outputs": [],
   "source": [
    "try:\n",
    "    session.set_keyspace(\"sparkify\")\n",
    "except Exception as e:\n",
    "    print(e)"
   ]
  },
  {
   "cell_type": "markdown",
   "metadata": {},
   "source": [
    "### Now we need to create tables to queries to ask the following three questions of the data\n",
    "\n",
    "1. Give me the artist, song title and song's length in the music app history that was heard during  sessionId = 338, and itemInSession  = 4\n",
    "1. Give me only the following: name of artist, song (sorted by itemInSession) and user (first and last name) for userid = 10, sessionid = 182\n",
    "1. Give me every user name (first and last) in my music app history who listened to the song 'All Hands Against His Own'"
   ]
  },
  {
   "cell_type": "markdown",
   "metadata": {},
   "source": [
    "#### Give me the artist, song title and song's length in the music app history that was heard during sessionId = 338, and itemInSession = 4"
   ]
  },
  {
   "cell_type": "markdown",
   "metadata": {},
   "source": [
    "We'll partition the data by the session ID and the item in session to make each data unique."
   ]
  },
  {
   "cell_type": "code",
   "execution_count": 10,
   "metadata": {},
   "outputs": [],
   "source": [
    "query = \"\"\"\n",
    "CREATE TABLE IF NOT EXISTS songs_heard_during_session\n",
    "(\n",
    "    session_id int,\n",
    "    item_in_session int,\n",
    "    artist text,\n",
    "    song text,\n",
    "    length double,\n",
    "    PRIMARY KEY (\n",
    "        session_id,\n",
    "        item_in_session\n",
    "    )\n",
    ")\n",
    "\"\"\"\n",
    "try:\n",
    "    session.execute(query)\n",
    "except Exception as e:\n",
    "    print(e)"
   ]
  },
  {
   "cell_type": "code",
   "execution_count": 11,
   "metadata": {
    "scrolled": false
   },
   "outputs": [],
   "source": [
    "file = \"event_datafile_new.csv\"\n",
    "\n",
    "with open(file, encoding = \"utf8\") as f:\n",
    "    csvreader = csv.reader(f)\n",
    "    next(csvreader)\n",
    "    for line in csvreader:\n",
    "        query = \"INSERT INTO songs_heard_during_session (session_id, item_in_session, artist, song, length)\"\n",
    "        query = query + \" VALUES (%s, %s, %s, %s, %s)\"\n",
    "        session.execute(query, (int(line[8]), int(line[3]), line[0], line[9], float(line[5])))"
   ]
  },
  {
   "cell_type": "code",
   "execution_count": 12,
   "metadata": {
    "scrolled": true
   },
   "outputs": [
    {
     "name": "stdout",
     "output_type": "stream",
     "text": [
      "Row(artist='Faithless', song='Music Matters (Mark Knight Dub)', length=495.3073)\n"
     ]
    }
   ],
   "source": [
    "query = \"SELECT artist, song, length from songs_heard_during_session WHERE session_id = 338 AND item_in_session = 4\"\n",
    "try:\n",
    "    rows = session.execute(query)\n",
    "except Exception as e:\n",
    "    print(e)\n",
    "    \n",
    "for row in rows:\n",
    "    print(row)"
   ]
  },
  {
   "cell_type": "markdown",
   "metadata": {},
   "source": [
    "#### Give me only the following: name of artist, song (sorted by itemInSession) and user (first and last name) for userid = 10, sessionid = 182"
   ]
  },
  {
   "cell_type": "markdown",
   "metadata": {},
   "source": [
    "For this query, we can make a composite key of the user ID and session ID. However, we also want to sort the data by the item in session, so we'll set the item in session a a clustering column when we create the table."
   ]
  },
  {
   "cell_type": "code",
   "execution_count": 13,
   "metadata": {},
   "outputs": [],
   "source": [
    "query = \"\"\"\n",
    "CREATE TABLE IF NOT EXISTS songs_users_listen_to\n",
    "(\n",
    "    user_id int,\n",
    "    session_id int,\n",
    "    item_in_session int,\n",
    "    artist text,\n",
    "    song text,\n",
    "    first_name text,\n",
    "    last_name text,\n",
    "    PRIMARY KEY (\n",
    "        (\n",
    "            user_id, \n",
    "            session_id\n",
    "        ),\n",
    "        item_in_session\n",
    "    )\n",
    ")\n",
    "\"\"\"\n",
    "try:\n",
    "    session.execute(query)\n",
    "except Exception as e:\n",
    "    print(e)"
   ]
  },
  {
   "cell_type": "code",
   "execution_count": 14,
   "metadata": {},
   "outputs": [],
   "source": [
    "file = \"event_datafile_new.csv\"\n",
    "\n",
    "with open(file, encoding = \"utf8\") as f:\n",
    "    csvreader = csv.reader(f)\n",
    "    next(csvreader)\n",
    "    for line in csvreader:\n",
    "        query = \"INSERT INTO songs_users_listen_to (user_id, session_id, item_in_session, artist, song, first_name, last_name)\"\n",
    "        query = query + \" VALUES (%s, %s, %s, %s, %s, %s, %s)\"\n",
    "        session.execute(query, (int(line[10]), int(line[8]), int(line[3]), line[0], line[9], line[1], line[4]))"
   ]
  },
  {
   "cell_type": "code",
   "execution_count": 15,
   "metadata": {},
   "outputs": [
    {
     "name": "stdout",
     "output_type": "stream",
     "text": [
      "Row(artist='Down To The Bone', song=\"Keep On Keepin' On\", first_name='Sylvie', last_name='Cruz', item_in_session=0)\n",
      "Row(artist='Three Drives', song='Greece 2000', first_name='Sylvie', last_name='Cruz', item_in_session=1)\n",
      "Row(artist='Sebastien Tellier', song='Kilometer', first_name='Sylvie', last_name='Cruz', item_in_session=2)\n",
      "Row(artist='Lonnie Gordon', song='Catch You Baby (Steve Pitron & Max Sanna Radio Edit)', first_name='Sylvie', last_name='Cruz', item_in_session=3)\n"
     ]
    }
   ],
   "source": [
    "query = \"SELECT artist, song, first_name, last_name, item_in_session from songs_users_listen_to WHERE user_id = 10 AND session_id = 182\"\n",
    "try:\n",
    "    rows = session.execute(query)\n",
    "except Exception as e:\n",
    "    print(e)\n",
    "    \n",
    "for row in rows:\n",
    "    print(row)"
   ]
  },
  {
   "cell_type": "markdown",
   "metadata": {},
   "source": [
    "#### Give me every user name (first and last) in my music app history who listened to the song 'All Hands Against His Own'"
   ]
  },
  {
   "cell_type": "markdown",
   "metadata": {},
   "source": [
    "Here we cannot partition the data by the song's title alone since the song's title can be listened by any user. That means it is not unique. To make it unique, we should make a composite key of the song and user ID."
   ]
  },
  {
   "cell_type": "code",
   "execution_count": 16,
   "metadata": {},
   "outputs": [],
   "source": [
    "query = \"\"\"\n",
    "CREATE TABLE IF NOT EXISTS users_by_song\n",
    "(\n",
    "    song text,\n",
    "    user_id int,\n",
    "    first_name text,\n",
    "    last_name text,\n",
    "    PRIMARY KEY (\n",
    "        song,\n",
    "        user_id\n",
    "    )\n",
    ")\n",
    "\"\"\"\n",
    "try:\n",
    "    session.execute(query)\n",
    "except Exception as e:\n",
    "    print(e)"
   ]
  },
  {
   "cell_type": "code",
   "execution_count": 17,
   "metadata": {},
   "outputs": [],
   "source": [
    "file = \"event_datafile_new.csv\"\n",
    "\n",
    "with open(file, encoding = \"utf8\") as f:\n",
    "    csvreader = csv.reader(f)\n",
    "    next(csvreader)\n",
    "    for line in csvreader:\n",
    "        query = \"INSERT INTO users_by_song (song, first_name, last_name, user_id)\"\n",
    "        query = query + \" VALUES (%s, %s, %s, %s)\"\n",
    "        session.execute(query, (line[9], line[1], line[4], int(line[10])))"
   ]
  },
  {
   "cell_type": "code",
   "execution_count": 18,
   "metadata": {},
   "outputs": [
    {
     "name": "stdout",
     "output_type": "stream",
     "text": [
      "Row(first_name='Jacqueline', last_name='Lynch')\n",
      "Row(first_name='Tegan', last_name='Levine')\n",
      "Row(first_name='Sara', last_name='Johnson')\n"
     ]
    }
   ],
   "source": [
    "query = \"SELECT first_name, last_name from users_by_song WHERE song = 'All Hands Against His Own'\"\n",
    "try:\n",
    "    rows = session.execute(query)\n",
    "except Exception as e:\n",
    "    print(e)\n",
    "    \n",
    "for row in rows:\n",
    "    print(row)"
   ]
  },
  {
   "cell_type": "markdown",
   "metadata": {},
   "source": [
    "### Drop the tables before closing out the sessions"
   ]
  },
  {
   "cell_type": "code",
   "execution_count": 19,
   "metadata": {},
   "outputs": [],
   "source": [
    "query = \"drop table songs_heard_during_session\"\n",
    "try:\n",
    "    rows = session.execute(query)\n",
    "except Exception as e:\n",
    "    print(e)\n",
    "\n",
    "query = \"drop table songs_users_listen_to\"\n",
    "try:\n",
    "    rows = session.execute(query)\n",
    "except Exception as e:\n",
    "    print(e)\n",
    "\n",
    "query = \"drop table users_by_song\"\n",
    "try:\n",
    "    rows = session.execute(query)\n",
    "except Exception as e:\n",
    "    print(e)"
   ]
  },
  {
   "cell_type": "markdown",
   "metadata": {},
   "source": [
    "### Close the session and cluster connection"
   ]
  },
  {
   "cell_type": "code",
   "execution_count": 20,
   "metadata": {},
   "outputs": [],
   "source": [
    "session.shutdown()\n",
    "cluster.shutdown()"
   ]
  }
 ],
 "metadata": {
  "kernelspec": {
   "display_name": "Python 3 (ipykernel)",
   "language": "python",
   "name": "python3"
  },
  "language_info": {
   "codemirror_mode": {
    "name": "ipython",
    "version": 3
   },
   "file_extension": ".py",
   "mimetype": "text/x-python",
   "name": "python",
   "nbconvert_exporter": "python",
   "pygments_lexer": "ipython3",
   "version": "3.9.7"
  }
 },
 "nbformat": 4,
 "nbformat_minor": 2
}
